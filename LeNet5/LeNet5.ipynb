{
  "nbformat": 4,
  "nbformat_minor": 0,
  "metadata": {
    "colab": {
      "name": "Untitled",
      "provenance": []
    },
    "kernelspec": {
      "name": "python3",
      "display_name": "Python 3"
    }
  },
  "cells": [
    {
      "cell_type": "code",
      "metadata": {
        "id": "JBdt020zdw4t",
        "colab_type": "code",
        "outputId": "f8fdc107-4c0b-4b82-cb1b-bad192e646cb",
        "colab": {
          "base_uri": "https://localhost:8080/",
          "height": 128
        }
      },
      "source": [
        "!pip install mnist"
      ],
      "execution_count": 0,
      "outputs": [
        {
          "output_type": "stream",
          "text": [
            "Collecting mnist\n",
            "  Downloading https://files.pythonhosted.org/packages/c6/c4/5db3bfe009f8d71f1d532bbadbd0ec203764bba3a469e4703a889db8e5e0/mnist-0.2.2-py2.py3-none-any.whl\n",
            "Requirement already satisfied: numpy in /usr/local/lib/python3.6/dist-packages (from mnist) (1.17.5)\n",
            "Installing collected packages: mnist\n",
            "Successfully installed mnist-0.2.2\n"
          ],
          "name": "stdout"
        }
      ]
    },
    {
      "cell_type": "code",
      "metadata": {
        "id": "M3garmt8daY6",
        "colab_type": "code",
        "colab": {}
      },
      "source": [
        "import numpy as np\n",
        "import mnist\n",
        "np.random.seed(42)"
      ],
      "execution_count": 0,
      "outputs": []
    },
    {
      "cell_type": "code",
      "metadata": {
        "id": "VWdh0OFzdraE",
        "colab_type": "code",
        "colab": {}
      },
      "source": [
        "X_train,Y_train = mnist.train_images(),mnist.train_labels()\n",
        "X_test,Y_test = mnist.test_images(),mnist.test_labels()\n",
        "num_classes = 10\n",
        "Y_1hot_train = np.eye(num_classes)[Y_train]\n",
        "Y_1hot_test = np.eye(num_classes)[Y_test]"
      ],
      "execution_count": 0,
      "outputs": []
    },
    {
      "cell_type": "code",
      "metadata": {
        "id": "3lCYDShLeS4t",
        "colab_type": "code",
        "colab": {}
      },
      "source": [
        "#Pre-processing\n",
        "X_train,X_test = X_train/255.0,X_test/255.0"
      ],
      "execution_count": 0,
      "outputs": []
    },
    {
      "cell_type": "code",
      "metadata": {
        "id": "g5Kvmz4PicH7",
        "colab_type": "code",
        "colab": {}
      },
      "source": [
        "X_train = X_train.reshape((-1,28,28,1))\n",
        "X_test = X_test.reshape((-1,28,28,1))"
      ],
      "execution_count": 0,
      "outputs": []
    },
    {
      "cell_type": "code",
      "metadata": {
        "id": "ONt-1murepS3",
        "colab_type": "code",
        "outputId": "63105e12-9313-416a-bed2-5ab1da0468eb",
        "colab": {
          "base_uri": "https://localhost:8080/",
          "height": 265
        }
      },
      "source": [
        "import matplotlib.pyplot as plt\n",
        "%matplotlib inline\n",
        "\n",
        "def showdisplay(img,process = False):\n",
        "  '''\n",
        "  display imae in pyplot\n",
        "  '''\n",
        "  if process == True:\n",
        "    img = img * 255\n",
        "  img = img.astype('uint8')\n",
        "  plt.imshow(img)\n",
        "\n",
        "sample = X_train[0]\n",
        "showdisplay(sample,True)"
      ],
      "execution_count": 0,
      "outputs": [
        {
          "output_type": "display_data",
          "data": {
            "image/png": "[encoded data removed]",
            "text/plain": [
              "<Figure size 432x288 with 1 Axes>"
            ]
          },
          "metadata": {
            "tags": []
          }
        }
      ]
    },
    {
      "cell_type": "code",
      "metadata": {
        "id": "uIIUQ6KWfbeW",
        "colab_type": "code",
        "colab": {}
      },
      "source": [
        "import tensorflow\n",
        "from tensorflow.keras.layers import Conv2D,MaxPooling2D,Flatten,Dense\n",
        "from tensorflow.keras import Model,Sequential"
      ],
      "execution_count": 0,
      "outputs": []
    },
    {
      "cell_type": "markdown",
      "metadata": {
        "id": "8kLLdufbg-Aj",
        "colab_type": "text"
      },
      "source": [
        "![LeNet5 Architecture from [Link](https://towardsdatascience.com/a-simple-2d-cnn-for-mnist-digit-recognition-a998dbc1e79a)](https://miro.medium.com/max/906/1*cPAmSB9nziZPI73VC5HAHg.png)"
      ]
    },
    {
      "cell_type": "code",
      "metadata": {
        "id": "CO1ik37ChGys",
        "colab_type": "code",
        "colab": {}
      },
      "source": [
        "model = Sequential()\n",
        "model.add(Conv2D(6,kernel_size=(5,5),padding='same',activation='relu',input_shape=(28,28,1)))\n",
        "model.add(MaxPooling2D(pool_size=(2,2)))\n",
        "model.add(Conv2D(16,kernel_size=(5,5),activation='relu'))\n",
        "model.add(MaxPooling2D(pool_size=(2,2)))\n",
        "model.add(Flatten())\n",
        "model.add(Dense(120,activation='relu'))\n",
        "model.add(Dense(84,activation='relu'))\n",
        "model.add(Dense(num_classes,activation='softmax'))"
      ],
      "execution_count": 0,
      "outputs": []
    },
    {
      "cell_type": "code",
      "metadata": {
        "id": "pp4gmph0oMup",
        "colab_type": "code",
        "colab": {}
      },
      "source": [
        "model.compile(optimizer='sgd',loss='sparse_categorical_crossentropy',metrics=['accuracy'])"
      ],
      "execution_count": 0,
      "outputs": []
    },
    {
      "cell_type": "code",
      "metadata": {
        "id": "qq9HfMJ1oZKS",
        "colab_type": "code",
        "colab": {}
      },
      "source": [
        "callbacks = [tensorflow.keras.callbacks.EarlyStopping(patience=3,monitor='val_loss'),tensorflow.keras.callbacks.TensorBoard(log_dir='./logs',histogram_freq=1)]"
      ],
      "execution_count": 0,
      "outputs": []
    },
    {
      "cell_type": "code",
      "metadata": {
        "id": "SQs_KeWhpenp",
        "colab_type": "code",
        "outputId": "1d573cea-ae65-4552-c5f3-03a36c65925c",
        "colab": {
          "base_uri": "https://localhost:8080/",
          "height": 437
        }
      },
      "source": [
        "model.fit(X_train,Y_train,batch_size=32,epochs=10,validation_data=(X_test,Y_test))"
      ],
      "execution_count": 0,
      "outputs": [
        {
          "output_type": "stream",
          "text": [
            "Train on 60000 samples, validate on 10000 samples\n",
            "Epoch 1/10\n",
            "60000/60000 [==============================] - 41s 691us/sample - loss: 0.4600 - acc: 0.8584 - val_loss: 0.1309 - val_acc: 0.9594\n",
            "Epoch 2/10\n",
            "60000/60000 [==============================] - 41s 687us/sample - loss: 0.1247 - acc: 0.9624 - val_loss: 0.0881 - val_acc: 0.9729\n",
            "Epoch 3/10\n",
            "60000/60000 [==============================] - 41s 689us/sample - loss: 0.0899 - acc: 0.9723 - val_loss: 0.0711 - val_acc: 0.9784\n",
            "Epoch 4/10\n",
            "60000/60000 [==============================] - 41s 686us/sample - loss: 0.0729 - acc: 0.9772 - val_loss: 0.0580 - val_acc: 0.9822\n",
            "Epoch 5/10\n",
            "60000/60000 [==============================] - 41s 682us/sample - loss: 0.0627 - acc: 0.9804 - val_loss: 0.0544 - val_acc: 0.9829\n",
            "Epoch 6/10\n",
            "60000/60000 [==============================] - 41s 685us/sample - loss: 0.0550 - acc: 0.9828 - val_loss: 0.0465 - val_acc: 0.9854\n",
            "Epoch 7/10\n",
            "60000/60000 [==============================] - 41s 685us/sample - loss: 0.0495 - acc: 0.9849 - val_loss: 0.0515 - val_acc: 0.9821\n",
            "Epoch 8/10\n",
            "60000/60000 [==============================] - 41s 687us/sample - loss: 0.0444 - acc: 0.9868 - val_loss: 0.0438 - val_acc: 0.9849\n",
            "Epoch 9/10\n",
            "60000/60000 [==============================] - 41s 688us/sample - loss: 0.0415 - acc: 0.9876 - val_loss: 0.0404 - val_acc: 0.9872\n",
            "Epoch 10/10\n",
            "60000/60000 [==============================] - 41s 691us/sample - loss: 0.0377 - acc: 0.9883 - val_loss: 0.0370 - val_acc: 0.9878\n"
          ],
          "name": "stdout"
        },
        {
          "output_type": "execute_result",
          "data": {
            "text/plain": [
              "<tensorflow.python.keras.callbacks.History at 0x7f6fd45ebcc0>"
            ]
          },
          "metadata": {
            "tags": []
          },
          "execution_count": 31
        }
      ]
    },
    {
      "cell_type": "code",
      "metadata": {
        "id": "OsC1tpx9qGTS",
        "colab_type": "code",
        "colab": {}
      },
      "source": [
        "model.save('weights.h5')\n"
      ],
      "execution_count": 0,
      "outputs": []
    },
    {
      "cell_type": "code",
      "metadata": {
        "id": "l0sGF6KTul9o",
        "colab_type": "code",
        "colab": {
          "base_uri": "https://localhost:8080/",
          "height": 283
        },
        "outputId": "1cca4a96-8a8c-474e-b2e8-8778823fa70a"
      },
      "source": [
        "sample = X_train[23]\n",
        "showdisplay(sample.reshape((28,28)),True)\n",
        "res = model.predict(np.array([sample]))\n",
        "print(np.argmax(res))"
      ],
      "execution_count": 42,
      "outputs": [
        {
          "output_type": "stream",
          "text": [
            "1\n"
          ],
          "name": "stdout"
        },
        {
          "output_type": "display_data",
          "data": {
            "image/png": "[encoded data removed]",
            "text/plain": [
              "<Figure size 432x288 with 1 Axes>"
            ]
          },
          "metadata": {
            "tags": []
          }
        }
      ]
    },
    {
      "cell_type": "code",
      "metadata": {
        "id": "dH-jKjOi0nU8",
        "colab_type": "code",
        "colab": {
          "base_uri": "https://localhost:8080/",
          "height": 35
        },
        "outputId": "a775f825-2ebc-49e1-fc67-9cb1eb7b6328"
      },
      "source": [
        ""
      ],
      "execution_count": 38,
      "outputs": [
        {
          "output_type": "stream",
          "text": [
            "1\n"
          ],
          "name": "stdout"
        }
      ]
    },
    {
      "cell_type": "code",
      "metadata": {
        "id": "CKKY5JWc0vm3",
        "colab_type": "code",
        "colab": {
          "base_uri": "https://localhost:8080/",
          "height": 283
        },
        "outputId": "466d9401-a647-45a6-bbd3-0d11903bce08"
      },
      "source": [
        "sample = X_train[1334]\n",
        "showdisplay(sample.reshape((28,28)),True)\n",
        "res = model.predict(np.array([sample]))\n",
        "print(np.argmax(res))"
      ],
      "execution_count": 41,
      "outputs": [
        {
          "output_type": "stream",
          "text": [
            "2\n"
          ],
          "name": "stdout"
        },
        {
          "output_type": "display_data",
          "data": {
            "image/png": "[encoded data removed]",
            "text/plain": [
              "<Figure size 432x288 with 1 Axes>"
            ]
          },
          "metadata": {
            "tags": []
          }
        }
      ]
    }
  ]
}